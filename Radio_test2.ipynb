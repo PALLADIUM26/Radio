{
  "nbformat": 4,
  "nbformat_minor": 0,
  "metadata": {
    "colab": {
      "provenance": []
    },
    "kernelspec": {
      "name": "python3",
      "display_name": "Python 3"
    },
    "language_info": {
      "name": "python"
    }
  },
  "cells": [
    {
      "cell_type": "code",
      "source": [
        "# !pip install --upgrade librosa\n",
        "import librosa\n",
        "import numpy as np\n",
        "import math"
      ],
      "metadata": {
        "id": "a92DcaM-GVE_"
      },
      "execution_count": null,
      "outputs": []
    },
    {
      "cell_type": "code",
      "execution_count": 39,
      "metadata": {
        "colab": {
          "base_uri": "https://localhost:8080/"
        },
        "id": "E1S3hW1eFAoz",
        "outputId": "12d10da0-37d9-442c-d7ad-1fb16777d072"
      },
      "outputs": [
        {
          "output_type": "stream",
          "name": "stdout",
          "text": [
            "Loud\n"
          ]
        }
      ],
      "source": [
        "# Load your audio file\n",
        "# y, sr = librosa.load(\"w.wav\") #0.055\n",
        "# y, sr = librosa.load(\"emergency.wav\") #0.073\n",
        "# y, sr = librosa.load(\"low.wav\") #0.035\n",
        "y, sr = librosa.load(\"high.wav\") #0.158\n",
        "# y, sr = librosa.load(\"medium.wav\") #0.101\n",
        "\n",
        "# Feature extraction functions (replace with your chosen methods)\n",
        "def calculate_rms(audio, frame_length=2048):\n",
        "  \"\"\"\n",
        "  This function calculates the Root Mean Square of the audio signal within frames.\n",
        "  \"\"\"\n",
        "  rms_values = []\n",
        "  for frame in np.arange(0, len(audio), frame_length):\n",
        "    rms = np.sqrt(np.mean(audio[frame:frame+frame_length]**2))\n",
        "    rms_values.append(rms)\n",
        "  return np.mean(rms_values)\n",
        "\n",
        "# Feature extraction\n",
        "rms = calculate_rms(y)\n",
        "\n",
        "# Access the features\n",
        "val = np.mean(rms)\n",
        "# print(\"Average RMS:\", val)\n",
        "\n",
        "if(val<0.04):\n",
        "  print(\"Silent\")\n",
        "elif(val>0.15):\n",
        "  print(\"Loud\")\n",
        "else:\n",
        "  print(\"Medium\")\n",
        "\n",
        "# Note: This is a basic example. You can explore other functions in Librosa\n",
        "# for more advanced feature extraction and analysis."
      ]
    },
    {
      "cell_type": "code",
      "source": [
        "import librosa\n",
        "import numpy as np\n",
        "\n",
        "def get_pitch(audio_path):\n",
        "    # Load the audio file\n",
        "    y, sr = librosa.load(audio_path)\n",
        "\n",
        "    # Use the librosa.yin method to estimate the pitch\n",
        "    pitches, magnitudes = librosa.piptrack(y=y, sr=sr)\n",
        "\n",
        "    pitch_values = []\n",
        "    for t in range(pitches.shape[1]):\n",
        "        pitch = pitches[:, t]\n",
        "        pitch = pitch[pitch > 0]\n",
        "        if len(pitch) > 0:\n",
        "            pitch_values.append(np.median(pitch))\n",
        "\n",
        "    # Compute the median pitch\n",
        "    median_pitch = np.median(pitch_values)\n",
        "\n",
        "    return median_pitch\n",
        "\n",
        "# Example usage\n",
        "# audio_path = 'w.wav' #698.77 Hz\n",
        "# audio_path = 'emergency.wav' #778.47 Hz\n",
        "# audio_path = 'low1.wav' #389.03 Hz\n",
        "# audio_path = 'medium1.wav' #320.24 Hz\n",
        "audio_path = 'high1.wav' #917.12 Hz\n",
        "\n",
        "pitch = get_pitch(audio_path)\n",
        "if pitch>500:\n",
        "    print(\"shrill\")\n",
        "else:\n",
        "    print('soft')\n",
        "\n",
        "# print(f\"The estimated pitch of the audio file is {pitch:.2f} Hz\")\n"
      ],
      "metadata": {
        "colab": {
          "base_uri": "https://localhost:8080/"
        },
        "id": "GvtfzQhMqXej",
        "outputId": "ffc5f24b-06bb-439b-9df5-97c48286e5f9"
      },
      "execution_count": 40,
      "outputs": [
        {
          "output_type": "stream",
          "name": "stdout",
          "text": [
            "shrill\n"
          ]
        }
      ]
    },
    {
      "cell_type": "code",
      "source": [],
      "metadata": {
        "id": "N-VB8TEJ4I43"
      },
      "execution_count": null,
      "outputs": []
    }
  ]
}